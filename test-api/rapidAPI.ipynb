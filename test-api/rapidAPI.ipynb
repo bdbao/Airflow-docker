{
 "cells": [
  {
   "cell_type": "code",
   "execution_count": 1,
   "metadata": {},
   "outputs": [],
   "source": [
    "import pandas as pd\n",
    "import requests"
   ]
  },
  {
   "cell_type": "code",
   "execution_count": null,
   "metadata": {},
   "outputs": [],
   "source": [
    "url = 'https://www.google.com.vn'\n",
    "page = requests.get(url)\n",
    "\n",
    "print(page)"
   ]
  },
  {
   "cell_type": "markdown",
   "metadata": {},
   "source": [
    "## API 1"
   ]
  },
  {
   "cell_type": "code",
   "execution_count": 4,
   "metadata": {},
   "outputs": [],
   "source": [
    "# Link: https://rapidapi.com/apidojo/api/yh-finance/\n",
    "url = 'https://yh-finance.p.rapidapi.com/market/v2/get-summary'\n",
    "\n",
    "# this is param in RapidAPI\n",
    "querystring = {\n",
    "    \"region\": 'US'\n",
    "} \n",
    "\n",
    "headers = {\n",
    "\t'X-RapidAPI-Key': '395434d0aamsh08cef3ad0561a05p125272jsn5df38f1f76ef',\n",
    "    'X-RapidAPI-Host': 'yh-finance.p.rapidapi.com'\n",
    "}\n",
    "\n",
    "response = requests.get(url, headers=headers, params=querystring).json()"
   ]
  },
  {
   "cell_type": "code",
   "execution_count": null,
   "metadata": {},
   "outputs": [],
   "source": [
    "response"
   ]
  },
  {
   "cell_type": "code",
   "execution_count": null,
   "metadata": {},
   "outputs": [],
   "source": [
    "df = pd.json_normalize(response)\n",
    "df"
   ]
  },
  {
   "cell_type": "code",
   "execution_count": null,
   "metadata": {},
   "outputs": [],
   "source": [
    "df = pd.json_normalize(response['marketSummaryAndSparkResponse']['result'])\n",
    "df"
   ]
  },
  {
   "cell_type": "markdown",
   "metadata": {},
   "source": [
    "## API 2"
   ]
  },
  {
   "cell_type": "code",
   "execution_count": null,
   "metadata": {},
   "outputs": [],
   "source": [
    "# Sign in -> Go to: https://rapidapi.com/apidojo/api/yh-finance/playground/apiendpoint_84def002-d0ba-4e75-9e15-fb788d691fab \n",
    "# (Chooose: Python + Request, Maybe choose: \"Test Endpoint\" for live data)\n",
    "url = 'https://yh-finance.p.rapidapi.com/auto-complete'\n",
    "\n",
    "# this is param in RapidAPI\n",
    "querystring = {\n",
    "    \"q\": 'tesla',\n",
    "    \"region\": 'US'\n",
    "} \n",
    "headers = {\n",
    "    'X-RapidAPI-Key': '395434d0aamsh08cef3ad0561a05p125272jsn5df38f1f76ef',\n",
    "    'X-RapidAPI-Host': 'yh-finance.p.rapidapi.com'\n",
    "}\n",
    "\n",
    "response = requests.get(url, headers=headers, params=querystring).json()\n",
    "df = pd.json_normalize(response['quotes'])\n",
    "df"
   ]
  },
  {
   "cell_type": "code",
   "execution_count": null,
   "metadata": {},
   "outputs": [],
   "source": [
    "df = pd.json_normalize(response['news'])\n",
    "df"
   ]
  }
 ],
 "metadata": {
  "kernelspec": {
   "display_name": "venv",
   "language": "python",
   "name": "python3"
  },
  "language_info": {
   "codemirror_mode": {
    "name": "ipython",
    "version": 3
   },
   "file_extension": ".py",
   "mimetype": "text/x-python",
   "name": "python",
   "nbconvert_exporter": "python",
   "pygments_lexer": "ipython3",
   "version": "3.9.13"
  }
 },
 "nbformat": 4,
 "nbformat_minor": 2
}
